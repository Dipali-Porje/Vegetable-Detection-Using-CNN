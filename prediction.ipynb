{
 "cells": [
  {
   "cell_type": "markdown",
   "metadata": {},
   "source": [
    "Predicting vegetables using vegetable_prediction.h5 model"
   ]
  },
  {
   "cell_type": "code",
   "execution_count": 1,
   "metadata": {},
   "outputs": [],
   "source": [
    "import tensorflow as tf\n",
    "from tensorflow.keras.preprocessing import image\n",
    "import numpy as np"
   ]
  },
  {
   "cell_type": "code",
   "execution_count": 2,
   "metadata": {},
   "outputs": [
    {
     "name": "stderr",
     "output_type": "stream",
     "text": [
      "WARNING:absl:Compiled the loaded model, but the compiled metrics have yet to be built. `model.compile_metrics` will be empty until you train or evaluate the model.\n"
     ]
    }
   ],
   "source": [
    "# Load the model\n",
    "model = tf.keras.models.load_model(r'C:\\Users\\porje\\OneDrive\\Desktop\\internship jb infotech\\CNN\\vegetable prediction\\vegetable_prediction.h5')"
   ]
  },
  {
   "cell_type": "code",
   "execution_count": 3,
   "metadata": {},
   "outputs": [],
   "source": [
    "# give class names to images\n",
    "class_names = ['beetroot','cabbage','capsicum','carrot','cauliflower','cucumber','garlic','ginger','lemon','onion','potato','soy beans','spinach','sweetcorn','sweetpotato','tomato']"
   ]
  },
  {
   "cell_type": "code",
   "execution_count": 4,
   "metadata": {},
   "outputs": [],
   "source": [
    "# Load an image file to test, resizing it to 224x224 pixels (as required by this model)\n",
    "img_path = r'C:\\Users\\porje\\OneDrive\\Desktop\\internship jb infotech\\CNN\\vegetable prediction\\dataset\\spinach\\images.jpg'"
   ]
  },
  {
   "cell_type": "code",
   "execution_count": 5,
   "metadata": {},
   "outputs": [],
   "source": [
    "# Load the image \n",
    "img =image.load_img(img_path, target_size=(224, 224))\n",
    "\n",
    "# Convert the image to a numpy array\n",
    "img_array = image.img_to_array(img)\n",
    "\n",
    "# Expand the shape of an array\n",
    "img_array = np.expand_dims(img_array, axis=0)  \n",
    "\n",
    "# Normalize the image\n",
    "img_array = img_array/255"
   ]
  },
  {
   "cell_type": "code",
   "execution_count": 6,
   "metadata": {},
   "outputs": [
    {
     "name": "stdout",
     "output_type": "stream",
     "text": [
      "\u001b[1m1/1\u001b[0m \u001b[32m━━━━━━━━━━━━━━━━━━━━\u001b[0m\u001b[37m\u001b[0m \u001b[1m0s\u001b[0m 150ms/step\n"
     ]
    }
   ],
   "source": [
    "# Make a prediction\n",
    "predictions = model.predict(img_array)"
   ]
  },
  {
   "cell_type": "code",
   "execution_count": 7,
   "metadata": {},
   "outputs": [
    {
     "data": {
      "text/plain": [
       "np.int64(12)"
      ]
     },
     "execution_count": 7,
     "metadata": {},
     "output_type": "execute_result"
    }
   ],
   "source": [
    "# Get the predicted class index\n",
    "class_index = np.argmax(predictions)    \n",
    "class_index"
   ]
  },
  {
   "cell_type": "code",
   "execution_count": 8,
   "metadata": {},
   "outputs": [
    {
     "name": "stdout",
     "output_type": "stream",
     "text": [
      "The image is of :  spinach\n"
     ]
    }
   ],
   "source": [
    "# Get the predicted class name\n",
    "predicted_class = class_names[class_index]\n",
    "print(\"The image is of : \",predicted_class)"
   ]
  },
  {
   "cell_type": "code",
   "execution_count": 2,
   "metadata": {},
   "outputs": [
    {
     "name": "stderr",
     "output_type": "stream",
     "text": [
      "WARNING:absl:Compiled the loaded model, but the compiled metrics have yet to be built. `model.compile_metrics` will be empty until you train or evaluate the model.\n"
     ]
    },
    {
     "name": "stdout",
     "output_type": "stream",
     "text": [
      "\u001b[1m1/1\u001b[0m \u001b[32m━━━━━━━━━━━━━━━━━━━━\u001b[0m\u001b[37m\u001b[0m \u001b[1m0s\u001b[0m 117ms/step\n",
      "\u001b[1m1/1\u001b[0m \u001b[32m━━━━━━━━━━━━━━━━━━━━\u001b[0m\u001b[37m\u001b[0m \u001b[1m0s\u001b[0m 75ms/step\n",
      "\u001b[1m1/1\u001b[0m \u001b[32m━━━━━━━━━━━━━━━━━━━━\u001b[0m\u001b[37m\u001b[0m \u001b[1m0s\u001b[0m 70ms/step\n",
      "\u001b[1m1/1\u001b[0m \u001b[32m━━━━━━━━━━━━━━━━━━━━\u001b[0m\u001b[37m\u001b[0m \u001b[1m0s\u001b[0m 43ms/step\n",
      "\u001b[1m1/1\u001b[0m \u001b[32m━━━━━━━━━━━━━━━━━━━━\u001b[0m\u001b[37m\u001b[0m \u001b[1m0s\u001b[0m 110ms/step\n"
     ]
    }
   ],
   "source": [
    "import tkinter as tk\n",
    "from tkinter import filedialog\n",
    "from PIL import Image, ImageTk\n",
    "import numpy as np\n",
    "import tensorflow as tf\n",
    "\n",
    "# Load your trained model (replace with your model path)\n",
    "model = tf.keras.models.load_model(r'C:\\Users\\porje\\OneDrive\\Desktop\\internship jb infotech\\CNN\\vegetable prediction\\vegetable_prediction.h5')\n",
    "\n",
    "# Class names corresponding to the class indices (replace with your actual class names)\n",
    "class_names = ['beetroot','cabbage','capsicum','carrot','cauliflower','cucumber','garlic','ginger','lemon','onion','potato','soy beans','spinach','sweetcorn','sweetpotato','tomato']\n",
    "\n",
    "def select_image():\n",
    "    global img_path\n",
    "    # Open file dialog to select an image\n",
    "    img_path = filedialog.askopenfilename(title=\"Select an Image\", filetypes=[(\"Image Files\", \"*.png;*.jpg;*.jpeg\")])\n",
    "    if img_path:\n",
    "        # Open and display the selected image\n",
    "        image = Image.open(img_path)\n",
    "        image.thumbnail((200, 200))\n",
    "        img_display = ImageTk.PhotoImage(image)\n",
    "        label_image.config(image=img_display)\n",
    "        label_image.image = img_display\n",
    "\n",
    "def predict_image():\n",
    "    # Load and preprocess the image\n",
    "    image = Image.open(img_path)\n",
    "    image = image.resize((224, 224))  # Resize to the model's input size\n",
    "    image = np.array(image) / 255.0  # Normalize the image\n",
    "    image = np.expand_dims(image, axis=0)  # Add batch dimension\n",
    "\n",
    "    # Predict the class\n",
    "    prediction = model.predict(image)\n",
    "    predicted_class_index = np.argmax(prediction)\n",
    "    predicted_class_name = class_names[predicted_class_index]\n",
    "\n",
    "    # Display the prediction result\n",
    "    label_result.config(text=f\"Prediction: {predicted_class_name}\")\n",
    "\n",
    "root = tk.Tk()\n",
    "root.title(\"Vegetable Detection\")\n",
    "\n",
    "# Set the initial window size to 500x500\n",
    "root.geometry(\"400x400\")\n",
    "\n",
    "# Create a label to display the selected image\n",
    "label_image = tk.Label(root)\n",
    "label_image.pack()\n",
    "\n",
    "# Create a label to display the prediction result\n",
    "label_result = tk.Label(root, text=\"Prediction: \", font=(\"Arial\", 14))\n",
    "label_result.pack()\n",
    "\n",
    "# Create a button to select an image\n",
    "button_select = tk.Button(root, text=\"Select Image\", command=select_image)\n",
    "button_select.pack(pady=10)\n",
    "\n",
    "# Create a button to predict the selected image\n",
    "button_predict = tk.Button(root, text=\"Predict\", command=predict_image)\n",
    "button_predict.pack(pady=10)\n",
    "\n",
    "root.mainloop()\n"
   ]
  },
  {
   "cell_type": "code",
   "execution_count": null,
   "metadata": {},
   "outputs": [],
   "source": []
  }
 ],
 "metadata": {
  "kernelspec": {
   "display_name": "Python 3",
   "language": "python",
   "name": "python3"
  },
  "language_info": {
   "codemirror_mode": {
    "name": "ipython",
    "version": 3
   },
   "file_extension": ".py",
   "mimetype": "text/x-python",
   "name": "python",
   "nbconvert_exporter": "python",
   "pygments_lexer": "ipython3",
   "version": "3.10.0"
  }
 },
 "nbformat": 4,
 "nbformat_minor": 2
}
